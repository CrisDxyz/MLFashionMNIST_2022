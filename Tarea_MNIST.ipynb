{
  "nbformat": 4,
  "nbformat_minor": 0,
  "metadata": {
    "colab": {
      "provenance": []
    },
    "kernelspec": {
      "name": "python3",
      "display_name": "Python 3"
    },
    "language_info": {
      "name": "python"
    },
    "gpuClass": "standard"
  },
  "cells": [
    {
      "cell_type": "markdown",
      "source": [
        "197070544-9\n",
        "\n",
        "Machine Learning"
      ],
      "metadata": {
        "id": "KszAhLjMruq9"
      }
    },
    {
      "cell_type": "code",
      "execution_count": null,
      "metadata": {
        "colab": {
          "base_uri": "https://localhost:8080/"
        },
        "id": "UJgI-k6Rrp5f",
        "outputId": "c877e370-c674-4cd2-f8ee-376c3917e5cd"
      },
      "outputs": [
        {
          "output_type": "stream",
          "name": "stdout",
          "text": [
            "Drive already mounted at /content/drive; to attempt to forcibly remount, call drive.mount(\"/content/drive\", force_remount=True).\n"
          ]
        }
      ],
      "source": [
        "from google.colab import drive\n",
        "drive.mount('/content/drive')"
      ]
    },
    {
      "cell_type": "code",
      "source": [
        "#%cd \"/content/drive/MyDrive/Colab Notebooks/Tarea MNIST/Fashion-MNIST\"\n",
        "%cd \"/content/drive/MyDrive/Colab Notebooks/Tarea MNIST\"\n",
        "#%cd .."
      ],
      "metadata": {
        "id": "qXkbtNi8sVDA",
        "colab": {
          "base_uri": "https://localhost:8080/"
        },
        "outputId": "2cc4a257-0bec-4841-c63f-677bf4f8bbd1"
      },
      "execution_count": null,
      "outputs": [
        {
          "output_type": "stream",
          "name": "stdout",
          "text": [
            "/content/drive/MyDrive/Colab Notebooks/Tarea MNIST\n"
          ]
        }
      ]
    },
    {
      "cell_type": "code",
      "source": [
        "ls"
      ],
      "metadata": {
        "colab": {
          "base_uri": "https://localhost:8080/"
        },
        "id": "9bUHoaaqsZzb",
        "outputId": "315c5cf4-8b73-428d-b35e-df3f40105c8a"
      },
      "execution_count": null,
      "outputs": [
        {
          "output_type": "stream",
          "name": "stdout",
          "text": [
            "'Copia de Tarea MNIST.ipynb'\n",
            " EjemploRNA.ipynb\n",
            " EjemploSVM.ipynb\n",
            " \u001b[0m\u001b[01;34mFashion-MNIST\u001b[0m/\n",
            " input_data.py\n",
            "'Tarea MNIST - Christopher Cárdenas A.ipynb'\n"
          ]
        }
      ]
    },
    {
      "cell_type": "code",
      "source": [
        "#pip install tensorflow_decision_forests"
      ],
      "metadata": {
        "id": "foagp7eKh39B"
      },
      "execution_count": null,
      "outputs": []
    },
    {
      "cell_type": "code",
      "source": [
        "#pip install wurlitzer"
      ],
      "metadata": {
        "id": "IYUssGFeh8A7",
        "colab": {
          "base_uri": "https://localhost:8080/"
        },
        "outputId": "501e22db-573b-4f04-8f0b-1a70f21c8c27"
      },
      "execution_count": null,
      "outputs": [
        {
          "output_type": "stream",
          "name": "stdout",
          "text": [
            "Looking in indexes: https://pypi.org/simple, https://us-python.pkg.dev/colab-wheels/public/simple/\n",
            "Collecting wurlitzer\n",
            "  Using cached wurlitzer-3.0.2-py3-none-any.whl (7.3 kB)\n",
            "Installing collected packages: wurlitzer\n",
            "Successfully installed wurlitzer-3.0.2\n"
          ]
        }
      ]
    },
    {
      "cell_type": "markdown",
      "source": [
        "##Librerías y Parámetros"
      ],
      "metadata": {
        "id": "YEZnsTmqvAyG"
      }
    },
    {
      "cell_type": "code",
      "source": [
        "%matplotlib notebook\n",
        "import tensorflow as tf\n",
        "import torch as pt\n",
        "# from tensorflow.examples.tutorials.mnist import input_data\n",
        "import numpy as np\n",
        "%matplotlib inline\n",
        "import matplotlib.pylab as plt\n",
        "from matplotlib import pyplot as plt2\n",
        "#import input_data.py\n",
        "from os.path import sep\n",
        "from tqdm import tqdm\n",
        "from sklearn import svm\n",
        "from sklearn.metrics import confusion_matrix, roc_curve, auc\n",
        "from sklearn.utils.multiclass import unique_labels\n",
        "from sklearn.datasets import make_moons, make_classification, load_digits\n",
        "# from sklearn.cross_validation import train_test_split\n",
        "from sklearn.model_selection import train_test_split\n",
        "from sklearn.naive_bayes import GaussianNB\n",
        "from sklearn.svm import SVC, NuSVC\n",
        "import pandas as pd\n",
        "import random\n",
        "from tensorflow.keras.optimizers import SGD\n",
        "from tensorflow.keras.activations import sigmoid\n",
        "#import tensorflow_decision_forests as tfdf\n",
        "from sklearn.metrics import ConfusionMatrixDisplay\n",
        "\n",
        "import scipy\n",
        "import seaborn as sns\n",
        "from sklearn.decomposition import PCA\n",
        "from sklearn.linear_model import LogisticRegression\n",
        "from sklearn.utils import shuffle\n",
        "from sklearn.model_selection import cross_val_score\n",
        "\n",
        "\n",
        "# Parámetros de entrenamiento\n",
        "minibatch_size = 32\n",
        "max_epochs = 100\n",
        "max_validation_checks = 25\n",
        "\n",
        "# Parámetros de gradiente descendente estocástico\n",
        "#Todo el mundo usa adam por encima del sgd, aunque en teoria es un poco peor para problemas de clasificacion de imagenes\n",
        "#opt = tf.keras.optimizers.Adam(learning_rate=0.01)\n",
        "\n",
        "opt = tf.keras.optimizers.SGD(learning_rate=0.01)  #Estuve unas 4 horas viendo por que el acc no subia de 0.1000, era porque tenia dividida la variable Y sin darme cuenta,\n",
        "#opt = tf.keras.optimizers.SGD(learning_rate=0.1)   #La misma porqueria\n",
        "#opt = tf.keras.optimizers.SGD(learning_rate=1)\n",
        "#opt = tf.keras.optimizers.SGD(learning_rate=10)    #No hay caso\n",
        "\n",
        "# Parámetros de SVM\n",
        "#opt =\n",
        "\n",
        "\n",
        "#Parámetros de Random Forest\n",
        "\n",
        "\n",
        "# Función de pérdida: 'cross_entropy' or 'mse'\n",
        "loss_function_name = 'sparse_categorical_crossentropy'\n",
        "\n",
        "# Parámetros de configuración de la red\n",
        "n_inputs = 28*28    # Número de entradas\n",
        "#n_hidden = 25      # Número de neuronas en la capa oculta\n",
        "n_hidden = 100\n",
        "#n_hidden = 10\n",
        "#n_hidden = 100\n",
        "n_classes = 10       # Número de salidas de la red softmax\n",
        "n_neurons = (n_inputs, n_hidden, n_classes)\n",
        "# n_neurons = (n_inputs,  n_classes)   # Descomente para eliminar capa oculta\n",
        "\n",
        "# log dir\n",
        "experiment_name = \"default\"\n",
        "folder_repet   = \"1\"         # Cambiar valor cuando realice repeticiones de los experimentos\n",
        "logdir = \"tarea_1_logs\" + sep + experiment_name + sep + folder_repet"
      ],
      "metadata": {
        "id": "DRNunr9CtR19"
      },
      "execution_count": null,
      "outputs": []
    },
    {
      "cell_type": "markdown",
      "source": [
        "##Dataset Fashion-MNIST"
      ],
      "metadata": {
        "id": "x4WM2brbvMV9"
      }
    },
    {
      "cell_type": "code",
      "source": [
        "\n",
        "#Descarga el dataset y lo enchufa en las variables, de forma pre-randomizada\n",
        "(x_train, y_train), (x_test, y_test) = tf.keras.datasets.fashion_mnist.load_data()\n",
        "\n",
        "print(\"x_train shape:\", x_train.shape, \"\\n y_train shape:\", y_train.shape)\n",
        "#x_train shape: (60000, 28, 28) y_train shape: (60000,)\n",
        "\n",
        "print(\"x_test>\",x_test.shape, \"\\n y_test>\", y_test.shape)\n",
        "#x_test> (10000, 28, 28) y_test> (10000,)\n",
        "#las imagenes contenidas en x_test poseen un tamaño de 28x28 pixeles, son 60000\n",
        "#las etiquetas estan contenidas en y_test, representados en numeros de 0 a 9\n",
        "\n",
        "#print(x_train[0])\n",
        "#print(y_test[])\n",
        "\n",
        "#One Hot, ej. 0010000; 1 digito es un cero; one cold es lo contrario. No me resulta la porqueria, pero lei que dividir por 255 tiene el mismo efecto, y funciona, asi que lo dejo con eso.\n",
        "x_train = (x_train / 255.0)\n",
        "x_test = (x_test / 255.0)\n"
      ],
      "metadata": {
        "id": "I9mn-cBUvSWm",
        "colab": {
          "base_uri": "https://localhost:8080/"
        },
        "outputId": "6e885f0b-8a57-461f-eb08-ee82a2e97ccc"
      },
      "execution_count": null,
      "outputs": [
        {
          "output_type": "stream",
          "name": "stdout",
          "text": [
            "x_train shape: (60000, 28, 28) \n",
            " y_train shape: (60000,)\n",
            "x_test> (10000, 28, 28) \n",
            " y_test> (10000,)\n"
          ]
        }
      ]
    },
    {
      "cell_type": "markdown",
      "source": [
        "##Visualizar datos del dataset"
      ],
      "metadata": {
        "id": "HW_lXyrar12c"
      }
    },
    {
      "cell_type": "code",
      "source": [
        "\n",
        "# Define the text labels\n",
        "fashion_mnist_labels = [\"Polera sin mangas\",  # index 0\n",
        "                        \"Pantalon\",      # index 1\n",
        "                        \"Poleron\",       # index 2\n",
        "                        \"Vestido\",       # index 3\n",
        "                        \"Abrigo\",        # index 4\n",
        "                        \"Sandalia\",      # index 5\n",
        "                        \"Polera\",        # index 6\n",
        "                        \"Zapatillas\",    # index 7\n",
        "                        \"Bolso\",         # index 8\n",
        "                        \"Botines\"]       # index 9\n",
        "\n",
        "# Image index, any number between 0 and 59,999\n",
        "img_index = random.randrange(60000)\n",
        "print(\"Img. Index gen: \",img_index)\n",
        "# y_train contains the labels, ranging from 0 to 9\n",
        "label_index = y_train[img_index]\n",
        "# Print the label\n",
        "print (\"y = \" + str(label_index) + \" \" +(fashion_mnist_labels[label_index]))\n",
        "# Show one of the images from the training dataset\n",
        "plt.imshow(x_train[img_index])"
      ],
      "metadata": {
        "colab": {
          "base_uri": "https://localhost:8080/",
          "height": 319
        },
        "id": "KMtgK6ncr04_",
        "outputId": "28cb5464-3199-44e0-b8b4-0607084764de"
      },
      "execution_count": null,
      "outputs": [
        {
          "output_type": "stream",
          "name": "stdout",
          "text": [
            "Img. Index gen:  56521\n",
            "y = 8 Bolso\n"
          ]
        },
        {
          "output_type": "execute_result",
          "data": {
            "text/plain": [
              "<matplotlib.image.AxesImage at 0x7f9285c57a10>"
            ]
          },
          "metadata": {},
          "execution_count": 17
        },
        {
          "output_type": "display_data",
          "data": {
            "text/plain": [
              "<Figure size 432x288 with 1 Axes>"
            ],
            "image/png": "[encoded data removed]"
          },
          "metadata": {
            "needs_background": "light"
          }
        }
      ]
    },
    {
      "cell_type": "markdown",
      "source": [
        "##Modelo"
      ],
      "metadata": {
        "id": "1hwOd-Xw3qmO"
      }
    },
    {
      "cell_type": "code",
      "source": [
        "\n",
        "#modelo\n",
        "\n",
        "model = tf.keras.models.Sequential(\n",
        "    [tf.keras.layers.Flatten(), #Crea el array de 28*28\n",
        "    tf.keras.layers.Dense(n_hidden, activation=tf.nn.sigmoid), #Neuronas ocultas con funcion de activacion sigmoide, aunque he leido varias veces que relu es mejor\n",
        "    #tf.keras.layers.Dense(n_classes, activation=tf.nn.softmax_cross_entropy_with_logits(y_train))]  #Capa de salida por softmax, deben ser 10, porque hay 10 etiquetas\n",
        "    tf.keras.layers.Dense(10, activation=tf.nn.softmax)]\n",
        ")\n",
        "\n",
        "#model.compile(optimizer = tf.optimizers.Adam(), loss = 'sparse_categorical_crossentropy', metrics=['accuracy'])\n",
        "#model.compile(loss='categorical_crossentropy', optimizer=SGD, metrics=['accuracy'])\n",
        "#model.compile(optimizer = tf.optimizers.Adam(), loss='sparse_categorical_crossentropy', metrics=['accuracy'])\n",
        "\n",
        "model.compile(loss='sparse_categorical_crossentropy', optimizer=opt, metrics=['accuracy'])\n",
        "\n",
        "#model.fit(x_train, y_train, epochs=3)  #Funciona pero no es exacto con el enunciado\n",
        "\n",
        "\n",
        "#epochs arriba\n",
        "\n",
        "history = model.fit(x_train, y_train, batch_size=minibatch_size, validation_split=0.3, shuffle=True, epochs=max_epochs)\n"
      ],
      "metadata": {
        "colab": {
          "base_uri": "https://localhost:8080/"
        },
        "id": "ggHlYuIC3ttM",
        "outputId": "f86d7884-ccaa-44ec-f371-ee3199af4ba5"
      },
      "execution_count": null,
      "outputs": [
        {
          "output_type": "stream",
          "name": "stdout",
          "text": [
            "Epoch 1/100\n",
            "1313/1313 [==============================] - 5s 4ms/step - loss: 1.4366 - accuracy: 0.6499 - val_loss: 1.0014 - val_accuracy: 0.7264\n",
            "Epoch 2/100\n",
            "1313/1313 [==============================] - 5s 4ms/step - loss: 0.8760 - accuracy: 0.7371 - val_loss: 0.7813 - val_accuracy: 0.7499\n",
            "Epoch 3/100\n",
            "1313/1313 [==============================] - 5s 4ms/step - loss: 0.7360 - accuracy: 0.7572 - val_loss: 0.6930 - val_accuracy: 0.7644\n",
            "Epoch 4/100\n",
            "1313/1313 [==============================] - 5s 4ms/step - loss: 0.6676 - accuracy: 0.7730 - val_loss: 0.6397 - val_accuracy: 0.7783\n",
            "Epoch 5/100\n",
            "1313/1313 [==============================] - 5s 4ms/step - loss: 0.6238 - accuracy: 0.7854 - val_loss: 0.6040 - val_accuracy: 0.7904\n",
            "Epoch 6/100\n",
            "1313/1313 [==============================] - 5s 4ms/step - loss: 0.5916 - accuracy: 0.7963 - val_loss: 0.5791 - val_accuracy: 0.7987\n",
            "Epoch 7/100\n",
            "1313/1313 [==============================] - 4s 3ms/step - loss: 0.5672 - accuracy: 0.8037 - val_loss: 0.5563 - val_accuracy: 0.8055\n",
            "Epoch 8/100\n",
            "1313/1313 [==============================] - 4s 3ms/step - loss: 0.5471 - accuracy: 0.8115 - val_loss: 0.5402 - val_accuracy: 0.8099\n",
            "Epoch 9/100\n",
            "1313/1313 [==============================] - 5s 4ms/step - loss: 0.5311 - accuracy: 0.8170 - val_loss: 0.5256 - val_accuracy: 0.8160\n",
            "Epoch 10/100\n",
            "1313/1313 [==============================] - 4s 3ms/step - loss: 0.5177 - accuracy: 0.8207 - val_loss: 0.5172 - val_accuracy: 0.8179\n",
            "Epoch 11/100\n",
            "1313/1313 [==============================] - 5s 4ms/step - loss: 0.5066 - accuracy: 0.8231 - val_loss: 0.5045 - val_accuracy: 0.8236\n",
            "Epoch 12/100\n",
            "1313/1313 [==============================] - 5s 4ms/step - loss: 0.4970 - accuracy: 0.8275 - val_loss: 0.4986 - val_accuracy: 0.8232\n",
            "Epoch 13/100\n",
            "1313/1313 [==============================] - 5s 3ms/step - loss: 0.4884 - accuracy: 0.8308 - val_loss: 0.4883 - val_accuracy: 0.8281\n",
            "Epoch 14/100\n",
            "1313/1313 [==============================] - 4s 3ms/step - loss: 0.4810 - accuracy: 0.8329 - val_loss: 0.4823 - val_accuracy: 0.8298\n",
            "Epoch 15/100\n",
            "1313/1313 [==============================] - 5s 4ms/step - loss: 0.4741 - accuracy: 0.8348 - val_loss: 0.4770 - val_accuracy: 0.8313\n",
            "Epoch 16/100\n",
            "1313/1313 [==============================] - 4s 3ms/step - loss: 0.4681 - accuracy: 0.8363 - val_loss: 0.4718 - val_accuracy: 0.8327\n",
            "Epoch 17/100\n",
            "1313/1313 [==============================] - 5s 3ms/step - loss: 0.4627 - accuracy: 0.8393 - val_loss: 0.4673 - val_accuracy: 0.8341\n",
            "Epoch 18/100\n",
            "1313/1313 [==============================] - 5s 3ms/step - loss: 0.4576 - accuracy: 0.8410 - val_loss: 0.4651 - val_accuracy: 0.8345\n",
            "Epoch 19/100\n",
            "1313/1313 [==============================] - 5s 3ms/step - loss: 0.4530 - accuracy: 0.8420 - val_loss: 0.4598 - val_accuracy: 0.8349\n",
            "Epoch 20/100\n",
            "1313/1313 [==============================] - 5s 4ms/step - loss: 0.4487 - accuracy: 0.8435 - val_loss: 0.4550 - val_accuracy: 0.8395\n",
            "Epoch 21/100\n",
            "1313/1313 [==============================] - 5s 4ms/step - loss: 0.4444 - accuracy: 0.8458 - val_loss: 0.4501 - val_accuracy: 0.8402\n",
            "Epoch 22/100\n",
            "1313/1313 [==============================] - 5s 4ms/step - loss: 0.4408 - accuracy: 0.8463 - val_loss: 0.4474 - val_accuracy: 0.8415\n",
            "Epoch 23/100\n",
            "1313/1313 [==============================] - 6s 4ms/step - loss: 0.4371 - accuracy: 0.8475 - val_loss: 0.4440 - val_accuracy: 0.8421\n",
            "Epoch 24/100\n",
            "1313/1313 [==============================] - 6s 4ms/step - loss: 0.4337 - accuracy: 0.8478 - val_loss: 0.4424 - val_accuracy: 0.8428\n",
            "Epoch 25/100\n",
            "1313/1313 [==============================] - 6s 4ms/step - loss: 0.4304 - accuracy: 0.8495 - val_loss: 0.4379 - val_accuracy: 0.8445\n",
            "Epoch 26/100\n",
            "1313/1313 [==============================] - 5s 4ms/step - loss: 0.4275 - accuracy: 0.8504 - val_loss: 0.4360 - val_accuracy: 0.8455\n",
            "Epoch 27/100\n",
            "1313/1313 [==============================] - 6s 4ms/step - loss: 0.4245 - accuracy: 0.8519 - val_loss: 0.4359 - val_accuracy: 0.8448\n",
            "Epoch 28/100\n",
            "1313/1313 [==============================] - 5s 4ms/step - loss: 0.4217 - accuracy: 0.8526 - val_loss: 0.4329 - val_accuracy: 0.8443\n",
            "Epoch 29/100\n",
            "1313/1313 [==============================] - 5s 4ms/step - loss: 0.4191 - accuracy: 0.8530 - val_loss: 0.4290 - val_accuracy: 0.8478\n",
            "Epoch 30/100\n",
            "1313/1313 [==============================] - 5s 4ms/step - loss: 0.4164 - accuracy: 0.8538 - val_loss: 0.4263 - val_accuracy: 0.8501\n",
            "Epoch 31/100\n",
            "1313/1313 [==============================] - 5s 4ms/step - loss: 0.4140 - accuracy: 0.8542 - val_loss: 0.4256 - val_accuracy: 0.8483\n",
            "Epoch 32/100\n",
            "1313/1313 [==============================] - 6s 4ms/step - loss: 0.4118 - accuracy: 0.8552 - val_loss: 0.4222 - val_accuracy: 0.8501\n",
            "Epoch 33/100\n",
            "1313/1313 [==============================] - 5s 4ms/step - loss: 0.4094 - accuracy: 0.8566 - val_loss: 0.4220 - val_accuracy: 0.8497\n",
            "Epoch 34/100\n",
            "1313/1313 [==============================] - 5s 4ms/step - loss: 0.4074 - accuracy: 0.8575 - val_loss: 0.4186 - val_accuracy: 0.8504\n",
            "Epoch 35/100\n",
            "1313/1313 [==============================] - 6s 5ms/step - loss: 0.4050 - accuracy: 0.8572 - val_loss: 0.4165 - val_accuracy: 0.8525\n",
            "Epoch 36/100\n",
            "1313/1313 [==============================] - 5s 4ms/step - loss: 0.4029 - accuracy: 0.8584 - val_loss: 0.4166 - val_accuracy: 0.8536\n",
            "Epoch 37/100\n",
            "1313/1313 [==============================] - 5s 4ms/step - loss: 0.4011 - accuracy: 0.8588 - val_loss: 0.4136 - val_accuracy: 0.8533\n",
            "Epoch 38/100\n",
            "1313/1313 [==============================] - 5s 4ms/step - loss: 0.3990 - accuracy: 0.8597 - val_loss: 0.4127 - val_accuracy: 0.8527\n",
            "Epoch 39/100\n",
            "1313/1313 [==============================] - 5s 4ms/step - loss: 0.3971 - accuracy: 0.8602 - val_loss: 0.4112 - val_accuracy: 0.8523\n",
            "Epoch 40/100\n",
            "1313/1313 [==============================] - 5s 4ms/step - loss: 0.3951 - accuracy: 0.8605 - val_loss: 0.4116 - val_accuracy: 0.8543\n",
            "Epoch 41/100\n",
            "1313/1313 [==============================] - 5s 4ms/step - loss: 0.3934 - accuracy: 0.8608 - val_loss: 0.4110 - val_accuracy: 0.8550\n",
            "Epoch 42/100\n",
            "1313/1313 [==============================] - 5s 4ms/step - loss: 0.3917 - accuracy: 0.8618 - val_loss: 0.4056 - val_accuracy: 0.8557\n",
            "Epoch 43/100\n",
            "1313/1313 [==============================] - 5s 4ms/step - loss: 0.3898 - accuracy: 0.8628 - val_loss: 0.4047 - val_accuracy: 0.8566\n",
            "Epoch 44/100\n",
            "1313/1313 [==============================] - 5s 4ms/step - loss: 0.3883 - accuracy: 0.8635 - val_loss: 0.4039 - val_accuracy: 0.8564\n",
            "Epoch 45/100\n",
            "1313/1313 [==============================] - 5s 4ms/step - loss: 0.3869 - accuracy: 0.8628 - val_loss: 0.4024 - val_accuracy: 0.8569\n",
            "Epoch 46/100\n",
            "1313/1313 [==============================] - 5s 4ms/step - loss: 0.3849 - accuracy: 0.8645 - val_loss: 0.4010 - val_accuracy: 0.8568\n",
            "Epoch 47/100\n",
            "1313/1313 [==============================] - 5s 4ms/step - loss: 0.3835 - accuracy: 0.8649 - val_loss: 0.4007 - val_accuracy: 0.8583\n",
            "Epoch 48/100\n",
            "1313/1313 [==============================] - 5s 4ms/step - loss: 0.3819 - accuracy: 0.8650 - val_loss: 0.3997 - val_accuracy: 0.8579\n",
            "Epoch 49/100\n",
            "1313/1313 [==============================] - 5s 4ms/step - loss: 0.3805 - accuracy: 0.8650 - val_loss: 0.3979 - val_accuracy: 0.8587\n",
            "Epoch 50/100\n",
            "1313/1313 [==============================] - 5s 4ms/step - loss: 0.3790 - accuracy: 0.8662 - val_loss: 0.3960 - val_accuracy: 0.8591\n",
            "Epoch 51/100\n",
            "1313/1313 [==============================] - 5s 4ms/step - loss: 0.3775 - accuracy: 0.8673 - val_loss: 0.3967 - val_accuracy: 0.8585\n",
            "Epoch 52/100\n",
            "1313/1313 [==============================] - 5s 4ms/step - loss: 0.3762 - accuracy: 0.8675 - val_loss: 0.3936 - val_accuracy: 0.8609\n",
            "Epoch 53/100\n",
            "1313/1313 [==============================] - 5s 4ms/step - loss: 0.3745 - accuracy: 0.8670 - val_loss: 0.3927 - val_accuracy: 0.8610\n",
            "Epoch 54/100\n",
            "1313/1313 [==============================] - 5s 4ms/step - loss: 0.3735 - accuracy: 0.8690 - val_loss: 0.3939 - val_accuracy: 0.8593\n",
            "Epoch 55/100\n",
            "1313/1313 [==============================] - 5s 4ms/step - loss: 0.3721 - accuracy: 0.8684 - val_loss: 0.3919 - val_accuracy: 0.8606\n",
            "Epoch 56/100\n",
            "1313/1313 [==============================] - 5s 4ms/step - loss: 0.3707 - accuracy: 0.8692 - val_loss: 0.3899 - val_accuracy: 0.8612\n",
            "Epoch 57/100\n",
            "1313/1313 [==============================] - 5s 4ms/step - loss: 0.3693 - accuracy: 0.8691 - val_loss: 0.3890 - val_accuracy: 0.8624\n",
            "Epoch 58/100\n",
            "1313/1313 [==============================] - 5s 4ms/step - loss: 0.3682 - accuracy: 0.8695 - val_loss: 0.3881 - val_accuracy: 0.8615\n",
            "Epoch 59/100\n",
            "1313/1313 [==============================] - 5s 4ms/step - loss: 0.3667 - accuracy: 0.8698 - val_loss: 0.3928 - val_accuracy: 0.8614\n",
            "Epoch 60/100\n",
            "1313/1313 [==============================] - 4s 3ms/step - loss: 0.3661 - accuracy: 0.8713 - val_loss: 0.3868 - val_accuracy: 0.8625\n",
            "Epoch 61/100\n",
            "1313/1313 [==============================] - 5s 4ms/step - loss: 0.3646 - accuracy: 0.8704 - val_loss: 0.3856 - val_accuracy: 0.8616\n",
            "Epoch 62/100\n",
            "1313/1313 [==============================] - 5s 3ms/step - loss: 0.3633 - accuracy: 0.8709 - val_loss: 0.3845 - val_accuracy: 0.8629\n",
            "Epoch 63/100\n",
            "1313/1313 [==============================] - 5s 4ms/step - loss: 0.3621 - accuracy: 0.8719 - val_loss: 0.3839 - val_accuracy: 0.8625\n",
            "Epoch 64/100\n",
            "1313/1313 [==============================] - 5s 4ms/step - loss: 0.3612 - accuracy: 0.8717 - val_loss: 0.3854 - val_accuracy: 0.8621\n",
            "Epoch 65/100\n",
            "1313/1313 [==============================] - 5s 4ms/step - loss: 0.3599 - accuracy: 0.8725 - val_loss: 0.3836 - val_accuracy: 0.8626\n",
            "Epoch 66/100\n",
            "1313/1313 [==============================] - 5s 4ms/step - loss: 0.3587 - accuracy: 0.8728 - val_loss: 0.3815 - val_accuracy: 0.8635\n",
            "Epoch 67/100\n",
            "1313/1313 [==============================] - 5s 4ms/step - loss: 0.3579 - accuracy: 0.8737 - val_loss: 0.3837 - val_accuracy: 0.8632\n",
            "Epoch 68/100\n",
            "1313/1313 [==============================] - 4s 3ms/step - loss: 0.3565 - accuracy: 0.8732 - val_loss: 0.3797 - val_accuracy: 0.8647\n",
            "Epoch 69/100\n",
            "1313/1313 [==============================] - 5s 4ms/step - loss: 0.3557 - accuracy: 0.8742 - val_loss: 0.3797 - val_accuracy: 0.8639\n",
            "Epoch 70/100\n",
            "1313/1313 [==============================] - 5s 4ms/step - loss: 0.3546 - accuracy: 0.8744 - val_loss: 0.3778 - val_accuracy: 0.8643\n",
            "Epoch 71/100\n",
            "1313/1313 [==============================] - 5s 4ms/step - loss: 0.3535 - accuracy: 0.8740 - val_loss: 0.3776 - val_accuracy: 0.8659\n",
            "Epoch 72/100\n",
            "1313/1313 [==============================] - 6s 4ms/step - loss: 0.3526 - accuracy: 0.8753 - val_loss: 0.3762 - val_accuracy: 0.8654\n",
            "Epoch 73/100\n",
            "1313/1313 [==============================] - 5s 4ms/step - loss: 0.3517 - accuracy: 0.8755 - val_loss: 0.3761 - val_accuracy: 0.8656\n",
            "Epoch 74/100\n",
            "1313/1313 [==============================] - 5s 4ms/step - loss: 0.3504 - accuracy: 0.8758 - val_loss: 0.3761 - val_accuracy: 0.8656\n",
            "Epoch 75/100\n",
            "1313/1313 [==============================] - 5s 4ms/step - loss: 0.3494 - accuracy: 0.8757 - val_loss: 0.3745 - val_accuracy: 0.8659\n",
            "Epoch 76/100\n",
            "1313/1313 [==============================] - 5s 4ms/step - loss: 0.3485 - accuracy: 0.8767 - val_loss: 0.3774 - val_accuracy: 0.8649\n",
            "Epoch 77/100\n",
            "1313/1313 [==============================] - 4s 3ms/step - loss: 0.3477 - accuracy: 0.8764 - val_loss: 0.3731 - val_accuracy: 0.8670\n",
            "Epoch 78/100\n",
            "1313/1313 [==============================] - 5s 4ms/step - loss: 0.3465 - accuracy: 0.8772 - val_loss: 0.3749 - val_accuracy: 0.8666\n",
            "Epoch 79/100\n",
            "1313/1313 [==============================] - 5s 4ms/step - loss: 0.3457 - accuracy: 0.8775 - val_loss: 0.3732 - val_accuracy: 0.8670\n",
            "Epoch 80/100\n",
            "1313/1313 [==============================] - 5s 4ms/step - loss: 0.3448 - accuracy: 0.8777 - val_loss: 0.3721 - val_accuracy: 0.8666\n",
            "Epoch 81/100\n",
            "1313/1313 [==============================] - 5s 4ms/step - loss: 0.3439 - accuracy: 0.8777 - val_loss: 0.3752 - val_accuracy: 0.8668\n",
            "Epoch 82/100\n",
            "1313/1313 [==============================] - 5s 4ms/step - loss: 0.3429 - accuracy: 0.8782 - val_loss: 0.3737 - val_accuracy: 0.8658\n",
            "Epoch 83/100\n",
            "1313/1313 [==============================] - 5s 4ms/step - loss: 0.3422 - accuracy: 0.8780 - val_loss: 0.3696 - val_accuracy: 0.8678\n",
            "Epoch 84/100\n",
            "1313/1313 [==============================] - 5s 3ms/step - loss: 0.3413 - accuracy: 0.8789 - val_loss: 0.3721 - val_accuracy: 0.8677\n",
            "Epoch 85/100\n",
            "1313/1313 [==============================] - 5s 4ms/step - loss: 0.3405 - accuracy: 0.8790 - val_loss: 0.3693 - val_accuracy: 0.8678\n",
            "Epoch 86/100\n",
            "1313/1313 [==============================] - 5s 4ms/step - loss: 0.3395 - accuracy: 0.8792 - val_loss: 0.3713 - val_accuracy: 0.8674\n",
            "Epoch 87/100\n",
            "1313/1313 [==============================] - 5s 4ms/step - loss: 0.3388 - accuracy: 0.8803 - val_loss: 0.3668 - val_accuracy: 0.8692\n",
            "Epoch 88/100\n",
            "1313/1313 [==============================] - 5s 4ms/step - loss: 0.3378 - accuracy: 0.8797 - val_loss: 0.3673 - val_accuracy: 0.8693\n",
            "Epoch 89/100\n",
            "1313/1313 [==============================] - 5s 3ms/step - loss: 0.3369 - accuracy: 0.8796 - val_loss: 0.3679 - val_accuracy: 0.8703\n",
            "Epoch 90/100\n",
            "1313/1313 [==============================] - 5s 3ms/step - loss: 0.3362 - accuracy: 0.8801 - val_loss: 0.3658 - val_accuracy: 0.8694\n",
            "Epoch 91/100\n",
            "1313/1313 [==============================] - 5s 4ms/step - loss: 0.3352 - accuracy: 0.8805 - val_loss: 0.3678 - val_accuracy: 0.8677\n",
            "Epoch 92/100\n",
            "1313/1313 [==============================] - 5s 4ms/step - loss: 0.3344 - accuracy: 0.8818 - val_loss: 0.3657 - val_accuracy: 0.8692\n",
            "Epoch 93/100\n",
            "1313/1313 [==============================] - 5s 4ms/step - loss: 0.3339 - accuracy: 0.8824 - val_loss: 0.3646 - val_accuracy: 0.8702\n",
            "Epoch 94/100\n",
            "1313/1313 [==============================] - 5s 4ms/step - loss: 0.3326 - accuracy: 0.8815 - val_loss: 0.3657 - val_accuracy: 0.8696\n",
            "Epoch 95/100\n",
            "1313/1313 [==============================] - 5s 4ms/step - loss: 0.3320 - accuracy: 0.8816 - val_loss: 0.3634 - val_accuracy: 0.8704\n",
            "Epoch 96/100\n",
            "1313/1313 [==============================] - 4s 3ms/step - loss: 0.3313 - accuracy: 0.8820 - val_loss: 0.3641 - val_accuracy: 0.8705\n",
            "Epoch 97/100\n",
            "1313/1313 [==============================] - 5s 3ms/step - loss: 0.3304 - accuracy: 0.8829 - val_loss: 0.3637 - val_accuracy: 0.8701\n",
            "Epoch 98/100\n",
            "1313/1313 [==============================] - 5s 4ms/step - loss: 0.3297 - accuracy: 0.8829 - val_loss: 0.3625 - val_accuracy: 0.8708\n",
            "Epoch 99/100\n",
            "1313/1313 [==============================] - 5s 4ms/step - loss: 0.3291 - accuracy: 0.8833 - val_loss: 0.3680 - val_accuracy: 0.8682\n",
            "Epoch 100/100\n",
            "1313/1313 [==============================] - 5s 4ms/step - loss: 0.3285 - accuracy: 0.8834 - val_loss: 0.3620 - val_accuracy: 0.8709\n"
          ]
        }
      ]
    },
    {
      "cell_type": "code",
      "source": [
        "model.summary()"
      ],
      "metadata": {
        "colab": {
          "base_uri": "https://localhost:8080/"
        },
        "id": "x6pitbEA-QTD",
        "outputId": "c53d5528-b99a-4474-df59-ab153d336caf"
      },
      "execution_count": null,
      "outputs": [
        {
          "output_type": "stream",
          "name": "stdout",
          "text": [
            "Model: \"sequential_1\"\n",
            "_________________________________________________________________\n",
            " Layer (type)                Output Shape              Param #   \n",
            "=================================================================\n",
            " flatten_1 (Flatten)         (None, 784)               0         \n",
            "                                                                 \n",
            " dense_2 (Dense)             (None, 100)               78500     \n",
            "                                                                 \n",
            " dense_3 (Dense)             (None, 10)                1010      \n",
            "                                                                 \n",
            "=================================================================\n",
            "Total params: 79,510\n",
            "Trainable params: 79,510\n",
            "Non-trainable params: 0\n",
            "_________________________________________________________________\n"
          ]
        }
      ]
    },
    {
      "cell_type": "code",
      "source": [
        "#model.evaluate(x_test, y_test)\n",
        "train_loss, train_accuracy = model.evaluate(x_train, y_train, batch_size=minibatch_size)\n",
        "#train_loss\n",
        "#train_accuracy"
      ],
      "metadata": {
        "colab": {
          "base_uri": "https://localhost:8080/"
        },
        "id": "-3VWgcLp-Zgp",
        "outputId": "bf955711-99be-4491-d2a8-2d3ac8bbafda"
      },
      "execution_count": null,
      "outputs": [
        {
          "output_type": "stream",
          "name": "stdout",
          "text": [
            "1875/1875 [==============================] - 4s 2ms/step - loss: 0.3376 - accuracy: 0.8804\n"
          ]
        }
      ]
    },
    {
      "cell_type": "code",
      "source": [
        "test_loss, test_accuracy = model.evaluate(x_test, y_test, batch_size=minibatch_size)\n",
        "#test_loss\n",
        "#test_accuracy"
      ],
      "metadata": {
        "colab": {
          "base_uri": "https://localhost:8080/"
        },
        "id": "R5hOS3YBdbOh",
        "outputId": "7946a85f-f4e3-4683-b73a-143fc24ab902"
      },
      "execution_count": null,
      "outputs": [
        {
          "output_type": "stream",
          "name": "stdout",
          "text": [
            "313/313 [==============================] - 1s 2ms/step - loss: 0.3905 - accuracy: 0.8598\n"
          ]
        }
      ]
    },
    {
      "cell_type": "code",
      "source": [
        "# plot the accuracy of the model as it trains\n",
        "plt.plot(history.history['accuracy'])\n",
        "plt.legend(['accuracy'])\n"
      ],
      "metadata": {
        "id": "cGovOOxV-0c5",
        "colab": {
          "base_uri": "https://localhost:8080/",
          "height": 283
        },
        "outputId": "8351e0bf-7c43-4f65-9f7f-c2e94722e045"
      },
      "execution_count": null,
      "outputs": [
        {
          "output_type": "execute_result",
          "data": {
            "text/plain": [
              "<matplotlib.legend.Legend at 0x7f9285abe490>"
            ]
          },
          "metadata": {},
          "execution_count": 22
        },
        {
          "output_type": "display_data",
          "data": {
            "text/plain": [
              "<Figure size 432x288 with 1 Axes>"
            ],
            "image/png": "[encoded data removed]"
          },
          "metadata": {
            "needs_background": "light"
          }
        }
      ]
    },
    {
      "cell_type": "code",
      "source": [
        "#Test de la nn\n",
        "\n",
        "# Image index, any number between 0 and 59,999\n",
        "img_index = random.randrange(10000)\n",
        "print(\"Img. Index gen: \",img_index)\n",
        "\n",
        "classifications = model.predict(x_test)\n",
        "\n",
        "print(classifications[img_index])\n",
        "plt.imshow(x_test[img_index])\n",
        "result = np.where(classifications[img_index] == max(classifications[img_index]))\n",
        "\n",
        "#print(\"max> \", max(classifications[img_index]))\n",
        "#print(result)\n",
        "\n",
        "print(f\"\\nPrediccion del modelo: {result[0][0]}\")\n",
        "\n",
        "print(f\"\\nRespuesta correcta: {y_test[img_index]}\")"
      ],
      "metadata": {
        "colab": {
          "base_uri": "https://localhost:8080/",
          "height": 408
        },
        "id": "yHBFgGBhN6Aq",
        "outputId": "8e585f8f-f0dd-4048-9c00-ee33a372b0df"
      },
      "execution_count": null,
      "outputs": [
        {
          "output_type": "stream",
          "name": "stdout",
          "text": [
            "Img. Index gen:  5008\n",
            "313/313 [==============================] - 1s 2ms/step\n",
            "[1.25e-02 1.00e-02 2.54e-02 2.20e-02 9.11e-01 1.04e-06 3.60e-03 1.20e-05\n",
            " 1.52e-02 1.04e-06]\n",
            "\n",
            "Prediccion del modelo: 4\n",
            "\n",
            "Respuesta correcta: 4\n"
          ]
        },
        {
          "output_type": "display_data",
          "data": {
            "text/plain": [
              "<Figure size 432x288 with 1 Axes>"
            ],
            "image/png": "[encoded data removed]"
          },
          "metadata": {
            "needs_background": "light"
          }
        }
      ]
    },
    {
      "cell_type": "markdown",
      "source": [
        "##Display de 15 Resultados"
      ],
      "metadata": {
        "id": "o-mtk4TP4taq"
      }
    },
    {
      "cell_type": "code",
      "source": [
        "y_hat = model.predict(x_test)\n",
        "\n",
        "# Plot a random sample of 10 test images, their predicted labels and ground truth\n",
        "figure = plt.figure(figsize=(20, 8))\n",
        "for i, index in enumerate(np.random.choice(x_test.shape[0], size=15, replace=False)):\n",
        "    ax = figure.add_subplot(3, 5, i + 1, xticks=[], yticks=[])\n",
        "    # Display each image\n",
        "    ax.imshow(np.squeeze(x_test[index]))\n",
        "    predict_index = np.argmax(y_hat[index])\n",
        "    true_index = y_test[index]\n",
        "    # Set the title for each image\n",
        "    ax.set_title(\"{} ({})\".format(fashion_mnist_labels[predict_index],\n",
        "                                  fashion_mnist_labels[true_index]),\n",
        "                                  color=(\"green\" if predict_index == true_index else \"red\"))"
      ],
      "metadata": {
        "colab": {
          "base_uri": "https://localhost:8080/",
          "height": 503
        },
        "id": "Ms6RfqE34tC9",
        "outputId": "14a3d82b-7c88-4b01-a89d-6ff389d412d2"
      },
      "execution_count": null,
      "outputs": [
        {
          "output_type": "stream",
          "name": "stdout",
          "text": [
            "313/313 [==============================] - 1s 3ms/step\n"
          ]
        },
        {
          "output_type": "display_data",
          "data": {
            "text/plain": [
              "<Figure size 1440x576 with 15 Axes>"
            ],
            "image/png": "[encoded data removed]"
          },
          "metadata": {}
        }
      ]
    },
    {
      "cell_type": "markdown",
      "source": [
        "##Quito una dimension para ver resultados con matriz de confusion"
      ],
      "metadata": {
        "id": "LvHLUpD5yqeO"
      }
    },
    {
      "cell_type": "code",
      "source": [
        "nsamples, nx, ny = x_train.shape\n",
        "d2_train_dataset_train = x_train.reshape(nsamples,nx*ny)\n",
        "\n",
        "nsamples, nx, ny = x_test.shape\n",
        "d2_train_dataset_test = x_test.reshape(nsamples,nx*ny)\n",
        "\n",
        "d2_train_dataset_train.shape\n",
        "d2_train_dataset_test.shape\n"
      ],
      "metadata": {
        "colab": {
          "base_uri": "https://localhost:8080/"
        },
        "id": "sj6g6-2a9KLg",
        "outputId": "7708c264-42ac-4489-e615-8d1f84a698fd"
      },
      "execution_count": null,
      "outputs": [
        {
          "output_type": "execute_result",
          "data": {
            "text/plain": [
              "(10000, 784)"
            ]
          },
          "metadata": {},
          "execution_count": 25
        }
      ]
    },
    {
      "cell_type": "code",
      "source": [
        "\n",
        "\n",
        "classifier = svm.SVC(kernel=\"linear\", C=0.01).fit(d2_train_dataset_train, y_train)\n",
        "\n",
        "np.set_printoptions(precision=2)\n",
        "\n",
        "titles_options = [\n",
        "    (\"Confusion matrix, without normalization\", None),\n",
        "    (\"Normalized confusion matrix\", \"true\"),\n",
        "]\n",
        "for title, normalize in titles_options:\n",
        "    disp = ConfusionMatrixDisplay.from_estimator(\n",
        "        classifier,\n",
        "        d2_train_dataset_test,\n",
        "        y_test,\n",
        "        display_labels=y_test,\n",
        "        cmap=plt.cm.Blues,\n",
        "        normalize=normalize,\n",
        "    )\n",
        "    disp.ax_.set_title(title)\n",
        "\n",
        "    print(title)\n",
        "    print(disp.confusion_matrix)\n",
        "\n",
        "plt.show()"
      ],
      "metadata": {
        "id": "WvbpMHClxf24",
        "colab": {
          "base_uri": "https://localhost:8080/",
          "height": 966
        },
        "outputId": "40342833-443a-4d1e-9f5e-3fb32606f9f2"
      },
      "execution_count": null,
      "outputs": [
        {
          "output_type": "stream",
          "name": "stdout",
          "text": [
            "Confusion matrix, without normalization\n",
            "[[845   3   7  44   3   2  84   0  12   0]\n",
            " [  4 955   6  28   5   0   1   0   1   0]\n",
            " [ 18   4 762   8 128   0  74   0   6   0]\n",
            " [ 32   8  13 878  31   0  35   0   3   0]\n",
            " [  0   2 103  36 774   0  83   0   2   0]\n",
            " [  0   0   0   1   0 917   0  56   3  23]\n",
            " [165   1 114  34  93   0 564   0  29   0]\n",
            " [  0   0   0   0   0  31   0 940   0  29]\n",
            " [  3   1   6   6   1   3  15   3 962   0]\n",
            " [  0   0   0   0   0  18   0  46   1 935]]\n",
            "Normalized confusion matrix\n",
            "[[0.84 0.   0.01 0.04 0.   0.   0.08 0.   0.01 0.  ]\n",
            " [0.   0.95 0.01 0.03 0.01 0.   0.   0.   0.   0.  ]\n",
            " [0.02 0.   0.76 0.01 0.13 0.   0.07 0.   0.01 0.  ]\n",
            " [0.03 0.01 0.01 0.88 0.03 0.   0.04 0.   0.   0.  ]\n",
            " [0.   0.   0.1  0.04 0.77 0.   0.08 0.   0.   0.  ]\n",
            " [0.   0.   0.   0.   0.   0.92 0.   0.06 0.   0.02]\n",
            " [0.17 0.   0.11 0.03 0.09 0.   0.56 0.   0.03 0.  ]\n",
            " [0.   0.   0.   0.   0.   0.03 0.   0.94 0.   0.03]\n",
            " [0.   0.   0.01 0.01 0.   0.   0.01 0.   0.96 0.  ]\n",
            " [0.   0.   0.   0.   0.   0.02 0.   0.05 0.   0.94]]\n"
          ]
        },
        {
          "output_type": "display_data",
          "data": {
            "text/plain": [
              "<Figure size 432x288 with 2 Axes>"
            ],
            "image/png": "[encoded data removed]"
          },
          "metadata": {
            "needs_background": "light"
          }
        },
        {
          "output_type": "display_data",
          "data": {
            "text/plain": [
              "<Figure size 432x288 with 2 Axes>"
            ],
            "image/png": "[encoded data removed]"
          },
          "metadata": {
            "needs_background": "light"
          }
        }
      ]
    },
    {
      "cell_type": "markdown",
      "source": [
        "#SVM"
      ],
      "metadata": {
        "id": "o6bNT5Y7QUPv"
      }
    },
    {
      "cell_type": "code",
      "source": [
        "# Calculate means\n",
        "Xmean = x_train.mean(axis=0)\n",
        "\n",
        "# Substract means\n",
        "Xtrn_nm = Xtrn - Xmean\n",
        "Xtst_nm = Xtst - Xmean\n"
      ],
      "metadata": {
        "id": "hH-vHrNbEMhU"
      },
      "execution_count": null,
      "outputs": []
    },
    {
      "cell_type": "code",
      "source": [
        "classifier = SVC(kernel='rbf', C=1, gamma='auto', probability=True)\n",
        "\n",
        "classifier.fit(d2_train_dataset_train, y_train)\n",
        "\n",
        "\n",
        "fig = plt.figure(figsize=(9, 8))\n",
        "\n",
        "ax = fig.add_subplot(2, 2, 1)\n",
        "y_pred = classifier.predict(x_test)\n",
        "clr=np.asarray(['b','g'])\n",
        "ax.scatter(x_test[y_test==0, 0], x_test[y_test==0, 1], c=clr[y_pred[y_test==0]],\n",
        "           marker='x', cmap=plt.cm.RdBu, vmin=0, vmax=1,\n",
        "           linewidth=1, alpha=0.5, s=40, label='Clase 1')\n",
        "ax.scatter(x_test[y_test==1, 0], x_test[y_test==1, 1], c=clr[y_pred[y_test==1]],\n",
        "           marker='o', cmap=plt.cm.RdBu, vmin=0, vmax=1,\n",
        "           linewidth=0, alpha=0.5, s=40, label='Clase 2')\n",
        "plt.title('Clasificaci\\'on en el conjunto de test')"
      ],
      "metadata": {
        "id": "qRj_Gs2A676N"
      },
      "execution_count": null,
      "outputs": []
    },
    {
      "cell_type": "code",
      "source": [
        "\n",
        "\n",
        "\n",
        "ax = fig.add_subplot(2, 2, 3)\n",
        "Z = classifier.predict_proba(np.c_[xx.ravel(), yy.ravel()])[:, 1]\n",
        "ax.contourf(xx, yy, Z.reshape(xx.shape), cmap=plt.cm.RdBu, alpha=0.5)\n",
        "ax.scatter(X[Y==0, 0], X[Y==0, 1], c='k', marker='x', linewidth=1, alpha=0.5, s=20, label='Clase 1')\n",
        "ax.scatter(X[Y==1, 0], X[Y==1, 1], c='k', marker='o', linewidth=0, alpha=0.5, s=20, label='Clase 2')\n",
        "plt.title('Probabilidad de clasificaci\\'on')\n",
        "\n",
        "ax = fig.add_subplot(2, 2, 2)\n",
        "y_pred = classifier.predict_proba(x_test)\n",
        "fpr, tpr, th = roc_curve(y_test, y_pred[:, 1])\n",
        "ax.plot(fpr, tpr, linewidth=4, alpha=0.5, label='Test')\n",
        "print(\"Area bajo la curva ROC (test): %f\" %(auc(fpr, tpr)))\n",
        "fpr, tpr, th = roc_curve(y_train, classifier.predict_proba(x_train)[:, 1])\n",
        "ax.plot(fpr, tpr, linewidth=4, alpha=0.5, label='Train')\n",
        "print(\"Area bajo la curva ROC (train): %f\" %(auc(fpr, tpr)))\n",
        "plt.legend(loc=4)\n",
        "ax.set_xlabel('False Positive Rate')\n",
        "ax.set_ylabel('True Positive Rate')\n",
        "ax.set_title('curva ROC')\n",
        "plt.grid()\n",
        "\n",
        "ax = fig.add_subplot(2, 2, 4)\n",
        "ax.scatter(x_train[y_train==0, 0], x_train[y_train==0, 1], c='b',\n",
        "           marker='x', linewidth=1, alpha=0.5, s=20, label='Clase 1')\n",
        "ax.scatter(x_train[y_train==1, 0], x_train[y_train==1, 1], c='g',\n",
        "           marker='o', linewidth=0, alpha=0.5, s=20, label='Clase 2')\n",
        "ax.scatter(x_train[classifier.support_, 0], x_train[classifier.support_, 1],\n",
        "           c='r', linewidth=1, alpha=0.25, s=100)\n",
        "plt.title('Vectores de soporte')\n",
        "\n",
        "plt.tight_layout()\n",
        "print(\"%d SVs para la clase 1\" % (classifier.n_support_[0]))\n",
        "print(\"%d SVs para la clase 2\" % (classifier.n_support_[1]))"
      ],
      "metadata": {
        "id": "3w3Sz3tFQYe1"
      },
      "execution_count": null,
      "outputs": []
    }
  ]
}